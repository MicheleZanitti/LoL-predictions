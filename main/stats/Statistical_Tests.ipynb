{
 "cells": [
  {
   "cell_type": "markdown",
   "metadata": {},
   "source": [
    "# Absolute player positions dataframe in a match"
   ]
  },
  {
   "cell_type": "code",
   "execution_count": null,
   "metadata": {},
   "outputs": [],
   "source": [
    "!pip install pymongo"
   ]
  },
  {
   "cell_type": "code",
   "execution_count": 101,
   "metadata": {},
   "outputs": [],
   "source": [
    "import pymongo\n",
    "import pandas as pd\n",
    "import numpy as np\n",
    "from scipy import stats\n",
    "import seaborn as sns\n",
    "import matplotlib\n",
    "import matplotlib.pyplot as plt\n",
    "# standard libraries\n",
    "import pickle\n",
    "# custom libraries\n",
    "import utils\n",
    "import stats\n",
    "# to silent warnings\n",
    "import warnings\n",
    "warnings.filterwarnings(\"ignore\")"
   ]
  },
  {
   "cell_type": "markdown",
   "metadata": {},
   "source": [
    "### Database Access"
   ]
  },
  {
   "cell_type": "code",
   "execution_count": 102,
   "metadata": {},
   "outputs": [
    {
     "name": "stdout",
     "output_type": "stream",
     "text": [
      "Requirement already satisfied: pymongo in /opt/conda/lib/python3.7/site-packages (3.10.0)\r\n"
     ]
    }
   ],
   "source": [
    "# database credentials\n",
    "dbname = 'lol2'\n",
    "user = 'lol2i'\n",
    "passw = 'GoogleTest19'\n",
    "ip = \"5.196.92.209\"\n",
    "port = 35420\n",
    "# connecting to the client\n",
    "client = pymongo.MongoClient(ip,port,username=user,password=passw,authSource=dbname)\n",
    "\n",
    "db = client[dbname]"
   ]
  },
  {
   "cell_type": "code",
   "execution_count": 103,
   "metadata": {},
   "outputs": [],
   "source": [
    "# extract 100 random gameids\n",
    "gameids = db.games.find()\n",
    "storedids = []\n",
    "import random\n",
    "maxids = 100\n",
    "i = 0\n",
    "for g in gameids:\n",
    "    if(i<maxids and bool(random.getrandbits(1))):\n",
    "        storedids.append(g['gameId'])\n",
    "        i += 1\n",
    "    elif(i>=maxids):\n",
    "        break"
   ]
  },
  {
   "cell_type": "code",
   "execution_count": 104,
   "metadata": {},
   "outputs": [],
   "source": [
    "# save global statistics about all 100 games, we want to find correlation between the win/lose and the other events.\n",
    "globaldfstats = []\n",
    "\n",
    "for gameid in storedids:\n",
    "    game = db.games.find({'gameId': gameid})[0]\n",
    "    statsparticipant = []\n",
    "    for p in game['participants']:\n",
    "\n",
    "        statsparticipant.append(p['stats'])\n",
    "\n",
    "\n",
    "    dfstats = pd.DataFrame(statsparticipant)\n",
    "    globaldfstats.append(dfstats)"
   ]
  },
  {
   "cell_type": "markdown",
   "metadata": {},
   "source": [
    "### Statistics by match results"
   ]
  },
  {
   "cell_type": "code",
   "execution_count": 105,
   "metadata": {},
   "outputs": [],
   "source": [
    "# let's group the data by winners and losers and compute the means of every event\n",
    "globaldf = pd.concat(globaldfstats).reset_index(drop=True)\n",
    "groupedglobaldf = globaldf.groupby(['win']).mean().T"
   ]
  },
  {
   "cell_type": "code",
   "execution_count": 106,
   "metadata": {},
   "outputs": [],
   "source": [
    "# here the standard deviation\n",
    "groupedglobalstd = globaldf.groupby(['win']).std().T\n",
    "df_tot = np.hstack([groupedglobaldf,groupedglobalstd])"
   ]
  },
  {
   "cell_type": "code",
   "execution_count": 107,
   "metadata": {},
   "outputs": [],
   "source": [
    "# dropping zero values to avoid nan values in t test\n",
    "groupedglobaldf_nozero = groupedglobaldf[(groupedglobaldf.T != 0).any()]"
   ]
  },
  {
   "cell_type": "code",
   "execution_count": 108,
   "metadata": {},
   "outputs": [
    {
     "data": {
      "text/html": [
       "<div>\n",
       "<style scoped>\n",
       "    .dataframe tbody tr th:only-of-type {\n",
       "        vertical-align: middle;\n",
       "    }\n",
       "\n",
       "    .dataframe tbody tr th {\n",
       "        vertical-align: top;\n",
       "    }\n",
       "\n",
       "    .dataframe thead th {\n",
       "        text-align: right;\n",
       "    }\n",
       "</style>\n",
       "<table border=\"1\" class=\"dataframe\">\n",
       "  <thead>\n",
       "    <tr style=\"text-align: right;\">\n",
       "      <th>win</th>\n",
       "      <th>False</th>\n",
       "      <th>True</th>\n",
       "    </tr>\n",
       "  </thead>\n",
       "  <tbody>\n",
       "    <tr>\n",
       "      <th>assists</th>\n",
       "      <td>8.131687</td>\n",
       "      <td>12.080247</td>\n",
       "    </tr>\n",
       "    <tr>\n",
       "      <th>champLevel</th>\n",
       "      <td>13.744856</td>\n",
       "      <td>14.872428</td>\n",
       "    </tr>\n",
       "    <tr>\n",
       "      <th>damageDealtToObjectives</th>\n",
       "      <td>3617.915638</td>\n",
       "      <td>9501.010288</td>\n",
       "    </tr>\n",
       "    <tr>\n",
       "      <th>damageDealtToTurrets</th>\n",
       "      <td>1202.372428</td>\n",
       "      <td>3754.604938</td>\n",
       "    </tr>\n",
       "    <tr>\n",
       "      <th>damageSelfMitigated</th>\n",
       "      <td>15854.962963</td>\n",
       "      <td>15569.032922</td>\n",
       "    </tr>\n",
       "    <tr>\n",
       "      <th>deaths</th>\n",
       "      <td>7.672840</td>\n",
       "      <td>5.193416</td>\n",
       "    </tr>\n",
       "    <tr>\n",
       "      <th>doubleKills</th>\n",
       "      <td>0.491770</td>\n",
       "      <td>0.897119</td>\n",
       "    </tr>\n",
       "    <tr>\n",
       "      <th>firstBloodKill</th>\n",
       "      <td>0.076132</td>\n",
       "      <td>0.129630</td>\n",
       "    </tr>\n",
       "    <tr>\n",
       "      <th>firstTowerAssist</th>\n",
       "      <td>0.053498</td>\n",
       "      <td>0.139918</td>\n",
       "    </tr>\n",
       "    <tr>\n",
       "      <th>firstTowerKill</th>\n",
       "      <td>0.032922</td>\n",
       "      <td>0.125514</td>\n",
       "    </tr>\n",
       "  </tbody>\n",
       "</table>\n",
       "</div>"
      ],
      "text/plain": [
       "win                             False         True \n",
       "assists                      8.131687     12.080247\n",
       "champLevel                  13.744856     14.872428\n",
       "damageDealtToObjectives   3617.915638   9501.010288\n",
       "damageDealtToTurrets      1202.372428   3754.604938\n",
       "damageSelfMitigated      15854.962963  15569.032922\n",
       "deaths                       7.672840      5.193416\n",
       "doubleKills                  0.491770      0.897119\n",
       "firstBloodKill               0.076132      0.129630\n",
       "firstTowerAssist             0.053498      0.139918\n",
       "firstTowerKill               0.032922      0.125514"
      ]
     },
     "execution_count": 108,
     "metadata": {},
     "output_type": "execute_result"
    }
   ],
   "source": [
    "groupedglobaldf_nozero.head(10)"
   ]
  },
  {
   "cell_type": "code",
   "execution_count": 110,
   "metadata": {},
   "outputs": [
    {
     "data": {
      "text/html": [
       "<div>\n",
       "<style scoped>\n",
       "    .dataframe tbody tr th:only-of-type {\n",
       "        vertical-align: middle;\n",
       "    }\n",
       "\n",
       "    .dataframe tbody tr th {\n",
       "        vertical-align: top;\n",
       "    }\n",
       "\n",
       "    .dataframe thead th {\n",
       "        text-align: right;\n",
       "    }\n",
       "</style>\n",
       "<table border=\"1\" class=\"dataframe\">\n",
       "  <thead>\n",
       "    <tr style=\"text-align: right;\">\n",
       "      <th></th>\n",
       "      <th>mean_lose</th>\n",
       "      <th>mean_win</th>\n",
       "      <th>std_lose</th>\n",
       "      <th>std_win</th>\n",
       "    </tr>\n",
       "  </thead>\n",
       "  <tbody>\n",
       "    <tr>\n",
       "      <th>0</th>\n",
       "      <td>8.131687</td>\n",
       "      <td>12.080247</td>\n",
       "      <td>6.486715</td>\n",
       "      <td>7.298054</td>\n",
       "    </tr>\n",
       "    <tr>\n",
       "      <th>1</th>\n",
       "      <td>13.744856</td>\n",
       "      <td>14.872428</td>\n",
       "      <td>2.440366</td>\n",
       "      <td>2.091756</td>\n",
       "    </tr>\n",
       "    <tr>\n",
       "      <th>2</th>\n",
       "      <td>0.000000</td>\n",
       "      <td>0.000000</td>\n",
       "      <td>0.000000</td>\n",
       "      <td>0.000000</td>\n",
       "    </tr>\n",
       "    <tr>\n",
       "      <th>3</th>\n",
       "      <td>3617.915638</td>\n",
       "      <td>9501.010288</td>\n",
       "      <td>5406.505525</td>\n",
       "      <td>9557.680940</td>\n",
       "    </tr>\n",
       "    <tr>\n",
       "      <th>4</th>\n",
       "      <td>1202.372428</td>\n",
       "      <td>3754.604938</td>\n",
       "      <td>1669.988835</td>\n",
       "      <td>3004.301559</td>\n",
       "    </tr>\n",
       "  </tbody>\n",
       "</table>\n",
       "</div>"
      ],
      "text/plain": [
       "     mean_lose     mean_win     std_lose      std_win\n",
       "0     8.131687    12.080247     6.486715     7.298054\n",
       "1    13.744856    14.872428     2.440366     2.091756\n",
       "2     0.000000     0.000000     0.000000     0.000000\n",
       "3  3617.915638  9501.010288  5406.505525  9557.680940\n",
       "4  1202.372428  3754.604938  1669.988835  3004.301559"
      ]
     },
     "execution_count": 110,
     "metadata": {},
     "output_type": "execute_result"
    }
   ],
   "source": [
    "# let's stack the two data frames (mean and standard deviation)\n",
    "names = ['mean_lose','mean_win','std_lose','std_win']\n",
    "x = pd.DataFrame(df_tot, columns=names)\n",
    "x.head()"
   ]
  },
  {
   "cell_type": "markdown",
   "metadata": {},
   "source": [
    "### Computing the T test"
   ]
  },
  {
   "cell_type": "code",
   "execution_count": 111,
   "metadata": {},
   "outputs": [],
   "source": [
    "# since we've already computed means and standard deviations \n",
    "# we need to define a function for computing the t test using scalars\n",
    "def Ttest(x):\n",
    "    \"\"\"\n",
    "    Compute T Test using scalar values\n",
    "    \n",
    "    Parameters\n",
    "    ----------\n",
    "    x : pd.DataFrame\n",
    "        Dataframe filtered by colums\n",
    "    \n",
    "    Returns\n",
    "    -------\n",
    "    pd.Series[float]\n",
    "        T Test results\n",
    "    \"\"\"\n",
    "    t = (x['mean_lose']-x['mean_win'])/(np.sqrt((x['std_lose']**2/100)+(x['std_win']**2/100)))\n",
    "    return t"
   ]
  },
  {
   "cell_type": "code",
   "execution_count": 112,
   "metadata": {},
   "outputs": [],
   "source": [
    "# assigning t test column to dataframe\n",
    "x['ttest'] = Ttest(x)"
   ]
  },
  {
   "cell_type": "code",
   "execution_count": 113,
   "metadata": {},
   "outputs": [],
   "source": [
    "# drop missing values\n",
    "x = x.dropna()"
   ]
  },
  {
   "cell_type": "code",
   "execution_count": 114,
   "metadata": {},
   "outputs": [],
   "source": [
    "# checking if the differences in means are statistically significative\n",
    "x['sign005'] = x['ttest'].apply(lambda x: 'nodiff' if np.abs(x)<1.96 else 'diff')"
   ]
  },
  {
   "cell_type": "code",
   "execution_count": 115,
   "metadata": {},
   "outputs": [],
   "source": [
    "# let's add the events associated to the tests\n",
    "x['events'] = groupedglobaldf_nozero.index"
   ]
  },
  {
   "cell_type": "code",
   "execution_count": 116,
   "metadata": {},
   "outputs": [],
   "source": [
    "# now let's take only the significative ones.\n",
    "sign_vars = x[x['sign005'] == 'diff']\n",
    "sign_vars.sort_values(by=\"ttest\",ascending=False,inplace=True)"
   ]
  },
  {
   "cell_type": "markdown",
   "metadata": {},
   "source": [
    "### Plot the results"
   ]
  },
  {
   "cell_type": "code",
   "execution_count": 117,
   "metadata": {},
   "outputs": [
    {
     "data": {
      "image/png": "[encoded data removed]",
      "text/plain": [
       "<Figure size 720x720 with 1 Axes>"
      ]
     },
     "metadata": {
      "needs_background": "light"
     },
     "output_type": "display_data"
    }
   ],
   "source": [
    "# now we can plot the differences in means (only for significative differences)\n",
    "plt.figure(figsize=(10,10))\n",
    "plt.barh(sign_vars[\"events\"],sign_vars[\"ttest\"],color='red',edgecolor='black')\n",
    "plt.title('Barchart - ttest by variables',fontsize=20)\n",
    "stats.saveImage('ttest_barchart')\n",
    "plt.show()"
   ]
  },
  {
   "cell_type": "code",
   "execution_count": null,
   "metadata": {},
   "outputs": [],
   "source": []
  }
 ],
 "metadata": {
  "kernelspec": {
   "display_name": "Python 3",
   "language": "python",
   "name": "python3"
  },
  "language_info": {
   "codemirror_mode": {
    "name": "ipython",
    "version": 3
   },
   "file_extension": ".py",
   "mimetype": "text/x-python",
   "name": "python",
   "nbconvert_exporter": "python",
   "pygments_lexer": "ipython3",
   "version": "3.7.4"
  }
 },
 "nbformat": 4,
 "nbformat_minor": 2
}
