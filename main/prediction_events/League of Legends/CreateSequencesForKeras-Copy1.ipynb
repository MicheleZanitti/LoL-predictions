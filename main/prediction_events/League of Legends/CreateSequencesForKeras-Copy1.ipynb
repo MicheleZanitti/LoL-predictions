{
 "cells": [
  {
   "cell_type": "markdown",
   "metadata": {},
   "source": [
    "# Create game sequences for Keras"
   ]
  },
  {
   "cell_type": "code",
   "execution_count": 1,
   "metadata": {},
   "outputs": [
    {
     "name": "stdout",
     "output_type": "stream",
     "text": [
      "Populating the interactive namespace from numpy and matplotlib\n"
     ]
    }
   ],
   "source": [
    "import numpy as np\n",
    "import pandas as pd\n",
    "import matplotlib.pyplot as plt\n",
    "%pylab inline"
   ]
  },
  {
   "cell_type": "code",
   "execution_count": 2,
   "metadata": {},
   "outputs": [
    {
     "name": "stderr",
     "output_type": "stream",
     "text": [
      "Using TensorFlow backend.\n"
     ]
    }
   ],
   "source": [
    "# import a set of customized fuctions \n",
    "from funzioniNN import *"
   ]
  },
  {
   "cell_type": "markdown",
   "metadata": {},
   "source": [
    "Open the pickle file of all games for each players. We get the data saved in a pickle format and load it into the notebook.\n",
    "    "
   ]
  },
  {
   "cell_type": "code",
   "execution_count": 5,
   "metadata": {},
   "outputs": [
    {
     "name": "stdout",
     "output_type": "stream",
     "text": [
      "/home/jovyan/data_shared/students/LOL_FINAL/prediction_outcomes/League of Legends\r\n"
     ]
    }
   ],
   "source": [
    "!pwd"
   ]
  },
  {
   "cell_type": "code",
   "execution_count": 6,
   "metadata": {},
   "outputs": [],
   "source": [
    "pfile = \"../data/\""
   ]
  },
  {
   "cell_type": "code",
   "execution_count": 7,
   "metadata": {},
   "outputs": [],
   "source": [
    "X = pickle.load(open(pfile+'X_seq.pkl',\"rb\"))"
   ]
  },
  {
   "cell_type": "markdown",
   "metadata": {},
   "source": [
    "This is how the file is shaped. It shows the sequence of actions for the first player in the first game."
   ]
  },
  {
   "cell_type": "code",
   "execution_count": 8,
   "metadata": {},
   "outputs": [
    {
     "data": {
      "text/plain": [
       "[(221, 471, []),\n",
       " (10292, 3086, ['ITEM_PURCHASED', 'ITEM_PURCHASED']),\n",
       " (12239, 2018, ['SKILL_LEVEL_UP']),\n",
       " (13433, 3235, ['SKILL_LEVEL_UP']),\n",
       " (10322, 1008, ['SKILL_LEVEL_UP', 'ITEM_DESTROYED', 'WARD_PLACED']),\n",
       " (10950,\n",
       "  1658,\n",
       "  ['ITEM_PURCHASED', 'ITEM_PURCHASED', 'ITEM_PURCHASED', 'SKILL_LEVEL_UP']),\n",
       " (13333, 2517, ['CHAMPION_KILL', 'ITEM_DESTROYED', 'SKILL_LEVEL_UP']),\n",
       " (10504, 1216, ['ITEM_PURCHASED', 'ITEM_DESTROYED']),\n",
       " (13732, 3890, ['CHAMPION_KILL', 'SKILL_LEVEL_UP', 'CHAMPION_KILL']),\n",
       " (11072, 1962, ['ITEM_PURCHASED', 'SKILL_LEVEL_UP', 'CHAMPION_KILL']),\n",
       " (12386, 2238, ['ITEM_PURCHASED']),\n",
       " (602,\n",
       "  487,\n",
       "  ['SKILL_LEVEL_UP',\n",
       "   'CHAMPION_KILL',\n",
       "   'ITEM_PURCHASED',\n",
       "   'ITEM_DESTROYED',\n",
       "   'ITEM_DESTROYED',\n",
       "   'ITEM_DESTROYED']),\n",
       " (13371, 3234, ['WARD_PLACED', 'ITEM_DESTROYED']),\n",
       " (965,\n",
       "  5067,\n",
       "  ['SKILL_LEVEL_UP',\n",
       "   'BUILDING_KILL',\n",
       "   'ITEM_PURCHASED',\n",
       "   'ITEM_PURCHASED',\n",
       "   'ITEM_PURCHASED',\n",
       "   'ITEM_PURCHASED',\n",
       "   'ITEM_DESTROYED',\n",
       "   'SKILL_LEVEL_UP',\n",
       "   'SKILL_LEVEL_UP']),\n",
       " (2977,\n",
       "  13511,\n",
       "  ['CHAMPION_KILL',\n",
       "   'SKILL_LEVEL_UP',\n",
       "   'ITEM_PURCHASED',\n",
       "   'ITEM_DESTROYED',\n",
       "   'ITEM_DESTROYED',\n",
       "   'ITEM_PURCHASED']),\n",
       " (4666, 6263, []),\n",
       " (9788,\n",
       "  6237,\n",
       "  ['CHAMPION_KILL',\n",
       "   'ITEM_PURCHASED',\n",
       "   'ITEM_DESTROYED',\n",
       "   'ITEM_DESTROYED',\n",
       "   'ITEM_DESTROYED']),\n",
       " (8557,\n",
       "  8021,\n",
       "  ['WARD_KILL',\n",
       "   'WARD_PLACED',\n",
       "   'CHAMPION_KILL',\n",
       "   'CHAMPION_KILL',\n",
       "   'WARD_KILL',\n",
       "   'SKILL_LEVEL_UP']),\n",
       " (5414,\n",
       "  5725,\n",
       "  ['ITEM_PURCHASED',\n",
       "   'ITEM_PURCHASED',\n",
       "   'ITEM_PURCHASED',\n",
       "   'ITEM_DESTROYED',\n",
       "   'CHAMPION_KILL']),\n",
       " (9785,\n",
       "  9769,\n",
       "  ['CHAMPION_KILL',\n",
       "   'SKILL_LEVEL_UP',\n",
       "   'WARD_KILL',\n",
       "   'WARD_KILL',\n",
       "   'CHAMPION_KILL',\n",
       "   'CHAMPION_KILL',\n",
       "   'WARD_PLACED']),\n",
       " (718,\n",
       "  552,\n",
       "  ['BUILDING_KILL',\n",
       "   'CHAMPION_KILL',\n",
       "   'CHAMPION_KILL',\n",
       "   'SKILL_LEVEL_UP',\n",
       "   'CHAMPION_KILL',\n",
       "   'ITEM_PURCHASED',\n",
       "   'ITEM_DESTROYED',\n",
       "   'ITEM_DESTROYED']),\n",
       " (4824,\n",
       "  9931,\n",
       "  ['ITEM_SOLD', 'ITEM_PURCHASED', 'SKILL_LEVEL_UP', 'CHAMPION_KILL']),\n",
       " (10497, 4726, ['WARD_PLACED']),\n",
       " (9132,\n",
       "  9500,\n",
       "  ['ELITE_MONSTER_KILL',\n",
       "   'CHAMPION_KILL',\n",
       "   'WARD_KILL',\n",
       "   'CHAMPION_KILL',\n",
       "   'SKILL_LEVEL_UP']),\n",
       " (12654, 11638, ['CHAMPION_KILL', 'ITEM_PURCHASED']),\n",
       " (9324, 9866, ['WARD_PLACED']),\n",
       " (4376, 4252, ['ITEM_PURCHASED', 'ITEM_DESTROYED']),\n",
       " (8030, 10243, ['SKILL_LEVEL_UP', 'WARD_PLACED', 'WARD_KILL']),\n",
       " (10355, 6610, []),\n",
       " (9972, 5105, ['SKILL_LEVEL_UP']),\n",
       " (2706,\n",
       "  1946,\n",
       "  ['ELITE_MONSTER_KILL', 'WARD_PLACED', 'ITEM_SOLD', 'ITEM_PURCHASED']),\n",
       " (1622, 4762, []),\n",
       " (6351, 8140, ['WARD_PLACED']),\n",
       " (1994, 4402, []),\n",
       " (5719, 3516, ['WARD_KILL', 'WARD_KILL', 'WARD_PLACED']),\n",
       " (4937,\n",
       "  6132,\n",
       "  ['ITEM_SOLD',\n",
       "   'ITEM_PURCHASED',\n",
       "   'ITEM_PURCHASED',\n",
       "   'ITEM_DESTROYED',\n",
       "   'SKILL_LEVEL_UP',\n",
       "   'CHAMPION_KILL']),\n",
       " (6046, 8382, []),\n",
       " (5059, 3805, [])]"
      ]
     },
     "execution_count": 8,
     "metadata": {},
     "output_type": "execute_result"
    }
   ],
   "source": [
    "X[0]"
   ]
  },
  {
   "cell_type": "markdown",
   "metadata": {},
   "source": [
    "Below are listed all possible events that can take place, while playing. That list is then turned into numerical values so that can be added to the sequence of positions in the game."
   ]
  },
  {
   "cell_type": "code",
   "execution_count": 9,
   "metadata": {},
   "outputs": [
    {
     "data": {
      "text/plain": [
       "{'BUILDING_KILL': 10001,\n",
       " 'CHAMPION_KILL': 10002,\n",
       " 'ELITE_MONSTER_KILL': 10003,\n",
       " 'ITEM_DESTROYED': 10004,\n",
       " 'ITEM_PURCHASED': 10005,\n",
       " 'ITEM_SOLD': 10006,\n",
       " 'ITEM_UNDO': 10007,\n",
       " 'SKILL_LEVEL_UP': 10008,\n",
       " 'WARD_KILL': 10009,\n",
       " 'WARD_PLACED': 10010}"
      ]
     },
     "execution_count": 9,
     "metadata": {},
     "output_type": "execute_result"
    }
   ],
   "source": [
    "# Define all posssible action that players can take in each frame\n",
    "allActions = ['BUILDING_KILL',\n",
    " 'CHAMPION_KILL',\n",
    " 'ELITE_MONSTER_KILL',\n",
    " 'ITEM_DESTROYED',\n",
    " 'ITEM_PURCHASED',\n",
    " 'ITEM_SOLD',\n",
    " 'ITEM_UNDO',\n",
    " 'SKILL_LEVEL_UP',\n",
    " 'WARD_KILL',\n",
    " 'WARD_PLACED']\n",
    "\n",
    "# Code the actions with numbers from 10001 to 100010\n",
    "allmap = dict(zip(allActions, range(10001,10011)))\n",
    "# Results / Legends\n",
    "allmap"
   ]
  },
  {
   "cell_type": "markdown",
   "metadata": {},
   "source": [
    "### We store all the sequences into a list to check its features."
   ]
  },
  {
   "cell_type": "code",
   "execution_count": 10,
   "metadata": {},
   "outputs": [],
   "source": [
    "# Save in a list all the sequences\n",
    "seq = []\n",
    "for sequence in X:\n",
    "    seq.append(sequence)"
   ]
  },
  {
   "cell_type": "code",
   "execution_count": 11,
   "metadata": {},
   "outputs": [
    {
     "data": {
      "text/plain": [
       "46350"
      ]
     },
     "execution_count": 11,
     "metadata": {},
     "output_type": "execute_result"
    }
   ],
   "source": [
    "# The length of the list indicates the number of games evaluated\n",
    "len(seq)"
   ]
  },
  {
   "cell_type": "markdown",
   "metadata": {},
   "source": [
    "The length of each game in the sequence indicated by the frames (*e.g. the duration of the game, since each frame corresponds to a minute of the game*)."
   ]
  },
  {
   "cell_type": "code",
   "execution_count": 10,
   "metadata": {},
   "outputs": [],
   "source": [
    "# Since the len of the sequence is most likely to be the same \n",
    "seq = []\n",
    "for sequence in X:\n",
    "    seq.append(len(sequence))"
   ]
  },
  {
   "cell_type": "markdown",
   "metadata": {},
   "source": [
    "The first game, in fact, lasted 38 minutes for all the participants (e.g. 10 players). The following game, as we would have expected, had different duration."
   ]
  },
  {
   "cell_type": "code",
   "execution_count": 11,
   "metadata": {},
   "outputs": [
    {
     "data": {
      "text/plain": [
       "[38, 38, 38, 38, 38, 38, 38, 38, 38, 38, 28]"
      ]
     },
     "execution_count": 11,
     "metadata": {},
     "output_type": "execute_result"
    }
   ],
   "source": [
    "seq[0:11]"
   ]
  },
  {
   "cell_type": "markdown",
   "metadata": {},
   "source": [
    "For instance, player 1, in the fifth minute of game 1 was in position (10950,1658) and did four actions, listed in square brackets."
   ]
  },
  {
   "cell_type": "code",
   "execution_count": 12,
   "metadata": {},
   "outputs": [
    {
     "data": {
      "text/plain": [
       "(10950,\n",
       " 1658,\n",
       " ['ITEM_PURCHASED', 'ITEM_PURCHASED', 'ITEM_PURCHASED', 'SKILL_LEVEL_UP'])"
      ]
     },
     "execution_count": 12,
     "metadata": {},
     "output_type": "execute_result"
    }
   ],
   "source": [
    "X[0][5]"
   ]
  },
  {
   "cell_type": "markdown",
   "metadata": {},
   "source": [
    "**Create the final sequence** \n",
    "* statsLenSeq        -> *list having for elements the length of each sequence*  \n",
    "* allSequences       -> *list with all the sequences of each game*\n",
    "* Yseq               -> *vector with target variable* \n",
    "* control            -> *control check to be sure that Y and X are the same length*\n"
   ]
  },
  {
   "cell_type": "code",
   "execution_count": 13,
   "metadata": {},
   "outputs": [],
   "source": [
    "statsLenSeq, allSequences, Yseq, control= create_Sequence(X=X,events=allmap, path = pfile)"
   ]
  },
  {
   "cell_type": "markdown",
   "metadata": {},
   "source": [
    "**The plot below shows the frequencies of each game' sequences**"
   ]
  },
  {
   "cell_type": "code",
   "execution_count": 14,
   "metadata": {},
   "outputs": [
    {
     "data": {
      "text/plain": [
       "<matplotlib.axes._subplots.AxesSubplot at 0x7f2c751605f8>"
      ]
     },
     "execution_count": 14,
     "metadata": {},
     "output_type": "execute_result"
    },
    {
     "data": {
      "image/png": "[encoded data removed]",
      "text/plain": [
       "<Figure size 720x576 with 1 Axes>"
      ]
     },
     "metadata": {
      "needs_background": "light"
     },
     "output_type": "display_data"
    }
   ],
   "source": [
    "pd.Series(statsLenSeq).plot(kind='hist', bins = 100, figsize=(10,8))"
   ]
  },
  {
   "cell_type": "markdown",
   "metadata": {},
   "source": [
    "Since the 99% of observations fall below 217, we could cut off the one percent being less informative. "
   ]
  },
  {
   "cell_type": "code",
   "execution_count": 15,
   "metadata": {},
   "outputs": [
    {
     "data": {
      "text/plain": [
       "217.0"
      ]
     },
     "execution_count": 15,
     "metadata": {},
     "output_type": "execute_result"
    }
   ],
   "source": [
    "pd.Series(statsLenSeq).quantile(0.99)"
   ]
  },
  {
   "cell_type": "markdown",
   "metadata": {},
   "source": [
    "# Analysis of movements across the map in games"
   ]
  },
  {
   "cell_type": "code",
   "execution_count": 16,
   "metadata": {},
   "outputs": [],
   "source": [
    "# Calculating the differential pace for each game's frames \n",
    "allDx, allDy = getDifferantialPace(X=X)"
   ]
  },
  {
   "cell_type": "markdown",
   "metadata": {},
   "source": [
    "Plot this difference."
   ]
  },
  {
   "cell_type": "code",
   "execution_count": 17,
   "metadata": {},
   "outputs": [
    {
     "data": {
      "text/plain": [
       "<matplotlib.axes._subplots.AxesSubplot at 0x7f2c6f577278>"
      ]
     },
     "execution_count": 17,
     "metadata": {},
     "output_type": "execute_result"
    },
    {
     "data": {
      "image/png": "[encoded data removed]",
      "text/plain": [
       "<Figure size 720x576 with 1 Axes>"
      ]
     },
     "metadata": {
      "needs_background": "light"
     },
     "output_type": "display_data"
    }
   ],
   "source": [
    "pd.Series(allDy).plot(kind='hist', bins = 100, figsize=(10,8))"
   ]
  },
  {
   "cell_type": "code",
   "execution_count": 32,
   "metadata": {},
   "outputs": [
    {
     "name": "stdout",
     "output_type": "stream",
     "text": [
      "The players, on average, move by 3227.\n"
     ]
    }
   ],
   "source": [
    "print('The players, on average, move by %s.'%int(pd.Series(allDy).mean()))"
   ]
  },
  {
   "cell_type": "markdown",
   "metadata": {},
   "source": [
    "This results supports the choice of dividing the map in square in order to capture the 95% of all movements in the game with no loss in Informativeness of the model."
   ]
  },
  {
   "cell_type": "code",
   "execution_count": 34,
   "metadata": {},
   "outputs": [
    {
     "data": {
      "text/plain": [
       "155.0"
      ]
     },
     "execution_count": 34,
     "metadata": {},
     "output_type": "execute_result"
    }
   ],
   "source": [
    "round(pd.Series(allDx).quantile(0.05),2)"
   ]
  }
 ],
 "metadata": {
  "kernelspec": {
   "display_name": "Python 3",
   "language": "python",
   "name": "python3"
  },
  "language_info": {
   "codemirror_mode": {
    "name": "ipython",
    "version": 3
   },
   "file_extension": ".py",
   "mimetype": "text/x-python",
   "name": "python",
   "nbconvert_exporter": "python",
   "pygments_lexer": "ipython3",
   "version": "3.7.3"
  }
 },
 "nbformat": 4,
 "nbformat_minor": 2
}
