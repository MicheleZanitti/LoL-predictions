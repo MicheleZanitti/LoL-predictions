{
 "cells": [
  {
   "cell_type": "markdown",
   "metadata": {},
   "source": [
    "# Create_seq_2"
   ]
  },
  {
   "cell_type": "code",
   "execution_count": 1,
   "metadata": {},
   "outputs": [],
   "source": [
    "import pickle"
   ]
  },
  {
   "cell_type": "code",
   "execution_count": 2,
   "metadata": {},
   "outputs": [
    {
     "name": "stdout",
     "output_type": "stream",
     "text": [
      "Populating the interactive namespace from numpy and matplotlib\n"
     ]
    }
   ],
   "source": [
    "import matplotlib.pyplot as plt\n",
    "import pandas as pd\n",
    "%pylab inline"
   ]
  },
  {
   "cell_type": "code",
   "execution_count": 3,
   "metadata": {},
   "outputs": [],
   "source": [
    "import numpy as np"
   ]
  },
  {
   "cell_type": "markdown",
   "metadata": {},
   "source": [
    "Open the pickle file of all games for each players"
   ]
  },
  {
   "cell_type": "code",
   "execution_count": 4,
   "metadata": {},
   "outputs": [],
   "source": [
    "pfile = \"DataNN/X_seq20000.pkl\""
   ]
  },
  {
   "cell_type": "code",
   "execution_count": 5,
   "metadata": {},
   "outputs": [],
   "source": [
    "X = pickle.load(open(pfile,\"rb\"))"
   ]
  },
  {
   "cell_type": "code",
   "execution_count": 6,
   "metadata": {},
   "outputs": [],
   "source": [
    "seq = []\n",
    "for sequence in X:\n",
    "    seq.append(len(sequence))"
   ]
  },
  {
   "cell_type": "code",
   "execution_count": 7,
   "metadata": {},
   "outputs": [],
   "source": [
    "# Define all posssible action that players can take in each frame\n",
    "allActions = ['BUILDING_KILL',\n",
    " 'CHAMPION_KILL',\n",
    " 'ELITE_MONSTER_KILL',\n",
    " 'ITEM_DESTROYED',\n",
    " 'ITEM_PURCHASED',\n",
    " 'ITEM_SOLD',\n",
    " 'ITEM_UNDO',\n",
    " 'SKILL_LEVEL_UP',\n",
    " 'WARD_KILL',\n",
    " 'WARD_PLACED']\n",
    "\n",
    "# Code the actions with numbers from 10001 to 100010\n",
    "allmap = dict(zip(allActions, range(10001,10011)))"
   ]
  },
  {
   "cell_type": "code",
   "execution_count": 8,
   "metadata": {},
   "outputs": [],
   "source": [
    "allDx = []\n",
    "allDy = []\n",
    "statsLenSeq = []\n",
    "allSequences = []\n",
    "for sequence in X:\n",
    "    #print(sequence)\n",
    "    xs = []\n",
    "    ys = []\n",
    "    allSeqPlayer = []\n",
    "    for movements in sequence:\n",
    "        #print(movements[0], movements[1])\n",
    "        x = int(movements[0]/150)\n",
    "        y = int(movements[1]/150)\n",
    "        v = 100 * x + y\n",
    "        seqf = [v]\n",
    "        for k in movements[2]:\n",
    "            seqf.append(allmap[k])\n",
    "        \n",
    "        for s in seqf:\n",
    "            allSeqPlayer.append(s)\n",
    "    allSequences.append(allSeqPlayer)\n",
    "    statsLenSeq.append(len(allSeqPlayer))\n",
    "        #print(v,movements[2])\n",
    "        "
   ]
  },
  {
   "cell_type": "code",
   "execution_count": 19,
   "metadata": {},
   "outputs": [],
   "source": [
    "pickle.dump(allSequences,open(\"WseqX.pickle\",\"wb\"))"
   ]
  },
  {
   "cell_type": "code",
   "execution_count": 24,
   "metadata": {},
   "outputs": [],
   "source": [
    "Ys = pickle.load(open(\"DataNN/Y_seq20000.pkl\",'rb'))"
   ]
  },
  {
   "cell_type": "code",
   "execution_count": 25,
   "metadata": {},
   "outputs": [],
   "source": [
    "Yseq = [int(b) for b in Ys]"
   ]
  },
  {
   "cell_type": "code",
   "execution_count": 28,
   "metadata": {},
   "outputs": [],
   "source": [
    "pickle.dump(Yseq,open(\"WseqY.pickle\",\"wb\"))"
   ]
  }
 ],
 "metadata": {
  "kernelspec": {
   "display_name": "Python 3",
   "language": "python",
   "name": "python3"
  },
  "language_info": {
   "codemirror_mode": {
    "name": "ipython",
    "version": 3
   },
   "file_extension": ".py",
   "mimetype": "text/x-python",
   "name": "python",
   "nbconvert_exporter": "python",
   "pygments_lexer": "ipython3",
   "version": "3.7.3"
  }
 },
 "nbformat": 4,
 "nbformat_minor": 2
}
