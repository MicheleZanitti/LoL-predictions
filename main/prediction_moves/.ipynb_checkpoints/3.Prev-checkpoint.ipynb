{
 "cells": [
  {
   "cell_type": "markdown",
   "metadata": {},
   "source": [
    "# Prediction of player movements"
   ]
  },
  {
   "cell_type": "code",
   "execution_count": 12,
   "metadata": {},
   "outputs": [],
   "source": [
    "# lovely numpy\n",
    "import numpy as np\n",
    "from numpy import array\n",
    "\n",
    "# plotting library\n",
    "import matplotlib.pyplot as plt\n",
    "import seaborn as sns\n",
    "\n",
    "# neural network libraries\n",
    "from keras.models import Sequential\n",
    "from keras.layers import LSTM, Dense\n",
    "from keras.preprocessing.sequence import TimeseriesGenerator\n",
    "\n",
    "# standard libraries\n",
    "import pickle\n",
    "import time\n",
    "import statistics\n",
    "\n",
    "# ignore warnings\n",
    "import warnings\n",
    "warnings.filterwarnings('ignore')"
   ]
  },
  {
   "cell_type": "code",
   "execution_count": 13,
   "metadata": {},
   "outputs": [],
   "source": [
    "# set seed for reproducibility\n",
    "np.random.seed(1)"
   ]
  },
  {
   "cell_type": "markdown",
   "metadata": {},
   "source": [
    "#### Loading data from pickle and preparation for lstm"
   ]
  },
  {
   "cell_type": "code",
   "execution_count": 14,
   "metadata": {},
   "outputs": [],
   "source": [
    "path=''\n",
    "X = pickle.load(open(path+'WseqX.pickle', 'rb'))"
   ]
  },
  {
   "cell_type": "code",
   "execution_count": 15,
   "metadata": {},
   "outputs": [],
   "source": [
    "# clean data from events\n",
    "# in a previous notebook we have encoded the events with numbers starting from 10000\n",
    "# so we take only the position\n",
    "positions = [i for l2 in X for i in l2 if i <= 10000]\n",
    "# converting in array\n",
    "series = array(positions)"
   ]
  },
  {
   "cell_type": "markdown",
   "metadata": {},
   "source": [
    "#### Series generation"
   ]
  },
  {
   "cell_type": "markdown",
   "metadata": {},
   "source": [
    "Build the series: 3 moves 1 predict "
   ]
  },
  {
   "cell_type": "code",
   "execution_count": 16,
   "metadata": {},
   "outputs": [],
   "source": [
    "# reshape for the TimeseriesGenerator\n",
    "n_features = 1\n",
    "series = series.reshape((len(series), n_features))\n",
    "# define generator test \n",
    "n_input = 3\n",
    "generator = TimeseriesGenerator(series, series, length=n_input, batch_size=4)"
   ]
  },
  {
   "cell_type": "markdown",
   "metadata": {},
   "source": [
    "#### Model build and fit"
   ]
  },
  {
   "cell_type": "code",
   "execution_count": 17,
   "metadata": {},
   "outputs": [
    {
     "name": "stdout",
     "output_type": "stream",
     "text": [
      "WARNING:tensorflow:From /opt/conda/lib/python3.7/site-packages/tensorflow/python/framework/op_def_library.py:263: colocate_with (from tensorflow.python.framework.ops) is deprecated and will be removed in a future version.\n",
      "Instructions for updating:\n",
      "Colocations handled automatically by placer.\n",
      "WARNING:tensorflow:From /opt/conda/lib/python3.7/site-packages/keras/backend/tensorflow_backend.py:3445: calling dropout (from tensorflow.python.ops.nn_ops) with keep_prob is deprecated and will be removed in a future version.\n",
      "Instructions for updating:\n",
      "Please use `rate` instead of `keep_prob`. Rate should be set to `rate = 1 - keep_prob`.\n"
     ]
    }
   ],
   "source": [
    "# build the model\n",
    "\n",
    "model = Sequential()\n",
    "model.add(LSTM(200,\n",
    "               activation='relu', # linear activation\n",
    "               input_shape=(n_input, n_features), # 3 -> 1\n",
    "               recurrent_dropout=0.2, # rnn regularization to avoid overfit\n",
    "               kernel_initializer='normal')) # initialization\n",
    "model.add(Dense(1))\n",
    "model.compile(optimizer='adamax', # very precise opt\n",
    "              loss='mse') # more weight to larger differences \n",
    "                                              "
   ]
  },
  {
   "cell_type": "code",
   "execution_count": 18,
   "metadata": {},
   "outputs": [
    {
     "name": "stdout",
     "output_type": "stream",
     "text": [
      "_________________________________________________________________\n",
      "Layer (type)                 Output Shape              Param #   \n",
      "=================================================================\n",
      "lstm_1 (LSTM)                (None, 200)               161600    \n",
      "_________________________________________________________________\n",
      "dense_1 (Dense)              (None, 1)                 201       \n",
      "=================================================================\n",
      "Total params: 161,801\n",
      "Trainable params: 161,801\n",
      "Non-trainable params: 0\n",
      "_________________________________________________________________\n"
     ]
    }
   ],
   "source": [
    "model.summary()"
   ]
  },
  {
   "cell_type": "code",
   "execution_count": 19,
   "metadata": {},
   "outputs": [
    {
     "name": "stdout",
     "output_type": "stream",
     "text": [
      "WARNING:tensorflow:From /opt/conda/lib/python3.7/site-packages/tensorflow/python/ops/math_ops.py:3066: to_int32 (from tensorflow.python.ops.math_ops) is deprecated and will be removed in a future version.\n",
      "Instructions for updating:\n",
      "Use tf.cast instead.\n"
     ]
    },
    {
     "data": {
      "text/plain": [
       "<keras.callbacks.History at 0x7fa7ba975d30>"
      ]
     },
     "execution_count": 19,
     "metadata": {},
     "output_type": "execute_result"
    }
   ],
   "source": [
    "# fit model to data\n",
    "model.fit_generator(generator, steps_per_epoch=1, epochs=500, verbose=0) \n",
    "# actually fit_generator dont evaluate Chebyshev distance or taxicab geometry -> verbose=0"
   ]
  },
  {
   "cell_type": "markdown",
   "metadata": {},
   "source": [
    "#### Custom functions to compute the taxicab geometry distance for validating"
   ]
  },
  {
   "cell_type": "code",
   "execution_count": 20,
   "metadata": {},
   "outputs": [],
   "source": [
    "def divide(num):\n",
    "    \"\"\"\n",
    "    Taxicab geometry distance: add zeros when the value has less than 4 digits\n",
    "    \n",
    "    Parameters\n",
    "    ----------\n",
    "    num : int\n",
    "        number\n",
    "        \n",
    "    Returns\n",
    "    -------\n",
    "    str\n",
    "        number codified\n",
    "    \"\"\"\n",
    "    if len(str(num)) < 4:\n",
    "        return (4 - len(str(num))) * \"0\" + str(num)\n",
    "    else:\n",
    "        return str(num)"
   ]
  },
  {
   "cell_type": "code",
   "execution_count": 21,
   "metadata": {},
   "outputs": [],
   "source": [
    "def split(num):\n",
    "    \"\"\"\n",
    "    Compute Taxicab geometry: split into two equal parts the values \n",
    "    Don't work with 2 digits but they can't be in the data\n",
    "    \n",
    "    Parameters\n",
    "    ----------\n",
    "    num : str\n",
    "        number codified\n",
    "        \n",
    "    Returns\n",
    "    -------\n",
    "    tuple[str]\n",
    "        tuple of number codified\n",
    "    \"\"\"\n",
    "    val = divide(num)\n",
    "    return val[0:2], val[2:4]"
   ]
  },
  {
   "cell_type": "code",
   "execution_count": 22,
   "metadata": {},
   "outputs": [],
   "source": [
    "def sub(val1, val2):\n",
    "    \"\"\"\n",
    "    Compute Taxicab geometry: preform the calculus of the distance\n",
    "    \n",
    "    Parameters\n",
    "    ----------\n",
    "    val1 : str\n",
    "        number codified\n",
    "    val2 : str\n",
    "        number codified\n",
    "        \n",
    "    Returns\n",
    "    -------\n",
    "    int\n",
    "        distance between position\n",
    "    \"\"\"\n",
    "    num1 = split(val1)\n",
    "    num2 = split(val2)\n",
    "    return abs(int(num1[0]) - int(num2[0])) + abs(int(num1[1]) - int(num2[1]))"
   ]
  },
  {
   "cell_type": "markdown",
   "metadata": {},
   "source": [
    "#### Validation with Taxicab geometry distance"
   ]
  },
  {
   "cell_type": "code",
   "execution_count": 23,
   "metadata": {},
   "outputs": [],
   "source": [
    "#Validation 3 position at time on 'threshold' elements\n",
    "#In order to extimate a prediction extract a sampre of 'threshold' elements\n",
    "\n",
    "errors = []\n",
    "count = 0\n",
    "threshold = 2.5e4\n",
    "start = 0\n",
    "end = 3\n",
    "\n",
    "while count <= threshold:\n",
    "    # select series for prediction\n",
    "    value = series[start:end]\n",
    "    # convert in proper shape\n",
    "    values = value.reshape((1, n_input, n_features))\n",
    "    # predict position\n",
    "    y_pred = int( model.predict(values, verbose=0))\n",
    "    # compute the error\n",
    "    errors.append(sub(y_pred, int(series[start+1])))\n",
    "    #increse counters\n",
    "    count+=1\n",
    "    start+=1\n",
    "    end+=1"
   ]
  },
  {
   "cell_type": "markdown",
   "metadata": {},
   "source": [
    "#### Plotting the result"
   ]
  },
  {
   "cell_type": "code",
   "execution_count": 24,
   "metadata": {},
   "outputs": [
    {
     "data": {
      "image/png": "[encoded data removed]",
      "text/plain": [
       "<Figure size 432x288 with 1 Axes>"
      ]
     },
     "metadata": {
      "needs_background": "light"
     },
     "output_type": "display_data"
    },
    {
     "name": "stdout",
     "output_type": "stream",
     "text": [
      "the median of distribution is 43.00\n",
      "the std of distribution is 26.13\n",
      "mainly we commit an error of 28%\n"
     ]
    }
   ],
   "source": [
    "plt.Figure(figsize=(14,10))\n",
    "sns.distplot(errors, color=\"r\", kde=False)\n",
    "plt.axvline(statistics.median(errors), color='blue', alpha=0.75, linewidth=2)\n",
    "plt.title('LSTM prediction error')\n",
    "plt.xlabel('Distance error')\n",
    "plt.tight_layout()\n",
    "plt.savefig('LSTM_error.png',format='png')\n",
    "plt.show()\n",
    "print(f'the median of distribution is {statistics.median(errors):.2f}')\n",
    "print(f'the std of distribution is {statistics.stdev(errors):.2f}')\n",
    "print(f'mainly we commit an error of %d%%'% int(statistics.median(errors)/max(errors)*100))\n",
    "# we cant predict teleports and deaths and backs (code hist)"
   ]
  },
  {
   "cell_type": "code",
   "execution_count": null,
   "metadata": {},
   "outputs": [],
   "source": []
  }
 ],
 "metadata": {
  "kernelspec": {
   "display_name": "Python 3",
   "language": "python",
   "name": "python3"
  },
  "language_info": {
   "codemirror_mode": {
    "name": "ipython",
    "version": 3
   },
   "file_extension": ".py",
   "mimetype": "text/x-python",
   "name": "python",
   "nbconvert_exporter": "python",
   "pygments_lexer": "ipython3",
   "version": "3.7.4"
  }
 },
 "nbformat": 4,
 "nbformat_minor": 2
}
