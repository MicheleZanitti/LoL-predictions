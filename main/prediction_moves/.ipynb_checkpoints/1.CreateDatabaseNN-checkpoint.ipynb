{
 "cells": [
  {
   "cell_type": "markdown",
   "metadata": {},
   "source": [
    "# Create data base for NN "
   ]
  },
  {
   "cell_type": "code",
   "execution_count": 14,
   "metadata": {},
   "outputs": [
    {
     "name": "stdout",
     "output_type": "stream",
     "text": [
      "Requirement already satisfied: pymongo in /opt/conda/lib/python3.7/site-packages (3.10.0)\r\n"
     ]
    }
   ],
   "source": [
    "!pip install pymongo\n",
    "import pymongo\n",
    "import json\n",
    "from bson import json_util"
   ]
  },
  {
   "cell_type": "markdown",
   "metadata": {},
   "source": [
    "**credentials**"
   ]
  },
  {
   "cell_type": "code",
   "execution_count": 15,
   "metadata": {},
   "outputs": [],
   "source": [
    "dbname = \"lol2\"\n",
    "user = 'lol2i'\n",
    "passw = 'GoogleTest19'\n",
    "ip = \"5.196.92.209\"\n",
    "port = 35420"
   ]
  },
  {
   "cell_type": "markdown",
   "metadata": {},
   "source": [
    "#### connection string"
   ]
  },
  {
   "cell_type": "code",
   "execution_count": 16,
   "metadata": {},
   "outputs": [],
   "source": [
    "client = pymongo.MongoClient(ip,port,username=user,password=passw,authSource=dbname)"
   ]
  },
  {
   "cell_type": "code",
   "execution_count": 17,
   "metadata": {},
   "outputs": [],
   "source": [
    "db = client[dbname]"
   ]
  },
  {
   "cell_type": "markdown",
   "metadata": {},
   "source": [
    "**How many games**"
   ]
  },
  {
   "cell_type": "code",
   "execution_count": 18,
   "metadata": {},
   "outputs": [
    {
     "name": "stderr",
     "output_type": "stream",
     "text": [
      "/opt/conda/lib/python3.7/site-packages/ipykernel_launcher.py:1: DeprecationWarning: count is deprecated. Use estimated_document_count or count_documents instead. Please note that $where must be replaced by $expr, $near must be replaced by $geoWithin with $center, and $nearSphere must be replaced by $geoWithin with $centerSphere\n",
      "  \"\"\"Entry point for launching an IPython kernel.\n"
     ]
    },
    {
     "data": {
      "text/plain": [
       "69395"
      ]
     },
     "execution_count": 18,
     "metadata": {},
     "output_type": "execute_result"
    }
   ],
   "source": [
    "db.games.count()"
   ]
  },
  {
   "cell_type": "code",
   "execution_count": 19,
   "metadata": {},
   "outputs": [],
   "source": [
    "def downloadCollection(db,collection_name,file_out):\n",
    "    \n",
    "    op = open(file_out,\"w\")\n",
    "    coll = db[collection_name]\n",
    "    results = coll.find({})\n",
    "    i = 0\n",
    "    for res in results:\n",
    "        jdump = json.dumps(res,default=json_util.default)\n",
    "        op.write(jdump+\"\\n\")\n",
    "        if(i%1000 == 0):\n",
    "            print(i)\n",
    "        i += 1\n",
    "    op.close()"
   ]
  },
  {
   "cell_type": "code",
   "execution_count": 20,
   "metadata": {},
   "outputs": [],
   "source": [
    "def getResultsByParticipant(gID):\n",
    "    pgameid=db.games.find({'gameId' :gID})\n",
    "    for i, g in enumerate(pgameid):\n",
    "        participants=g['participants']\n",
    "        result=[]\n",
    "        for i, participant in enumerate(participants):       \n",
    "            result.append((i, participant['stats']['win']))\n",
    "        return result\n"
   ]
  },
  {
   "cell_type": "code",
   "execution_count": 21,
   "metadata": {},
   "outputs": [],
   "source": [
    "def getPosition(timelines_frames, player):\n",
    "    events_and_pos=[]\n",
    "    for frame in timelines_frames:\n",
    "        if('position' in frame['participantFrames'][player]):\n",
    "            position = frame['participantFrames'][player]['position']\n",
    "            typeList=[]\n",
    "            events=frame['events']           \n",
    "            for event in events:\n",
    "                type_= event['type']\n",
    "                if 'creatorId' in event:\n",
    "                    if (event['creatorId']==int(player)):\n",
    "                        typeList.append((type_))\n",
    "                elif 'participantId' in event:\n",
    "                    if (event['participantId']==int(player)):\n",
    "                        typeList.append((type_))\n",
    "                elif 'killerId' in event:\n",
    "                    if (event['killerId']==int(player)):\n",
    "                        typeList.append((type_))    \n",
    "            x = position['x']\n",
    "            y = position['y']\n",
    "            tl=typeList\n",
    "            \n",
    "            try:\n",
    "                events_and_pos.append((x,y,tl))\n",
    "            except Exception as e:\n",
    "                pass\n",
    "            \n",
    "    return events_and_pos"
   ]
  },
  {
   "cell_type": "code",
   "execution_count": 22,
   "metadata": {},
   "outputs": [],
   "source": [
    "time_line_all=db.timelines.find({})"
   ]
  },
  {
   "cell_type": "code",
   "execution_count": 23,
   "metadata": {},
   "outputs": [],
   "source": [
    "# save object to a file\n",
    "# HIGHEST_PROTOCOL for binary format\n",
    "# 0 for text output\n",
    "import pickle\n",
    "def save_obj(obj, name ):\n",
    "    with open('DataNN/'+ name + '.pkl', 'wb') as f:\n",
    "        pickle.dump(obj, f, 0)"
   ]
  },
  {
   "cell_type": "code",
   "execution_count": 24,
   "metadata": {
    "scrolled": false
   },
   "outputs": [
    {
     "name": "stdout",
     "output_type": "stream",
     "text": [
      "---> 0\n",
      "---> 1000\n",
      "---> 2000\n",
      "---> 4000\n",
      "---> 5000\n",
      "---> 6000\n",
      "---> 7000\n",
      "---> 8000\n",
      "---> 9000\n",
      "---> 10000\n",
      "---> 11000\n",
      "---> 12000\n",
      "---> 13000\n",
      "---> 14000\n",
      "---> 15000\n",
      "---> 16000\n",
      "---> 17000\n",
      "---> 18000\n",
      "---> 19000\n"
     ]
    }
   ],
   "source": [
    "X=[]\n",
    "Y=[]\n",
    "\n",
    "\n",
    "for i, gameId in enumerate(time_line_all):\n",
    "    \n",
    "    # for every game\n",
    "    gID= gameId['gameId']\n",
    "    try:\n",
    "        resGame= getResultsByParticipant(gID)\n",
    "\n",
    "        if 'timeline' in gameId:\n",
    "            tFrames=gameId['timeline']['frames']\n",
    "            for j in range(0,10):     # player 1 to 10\n",
    "                try:\n",
    "                    events_and_pos=getPosition(tFrames, str(j+1))\n",
    "                    X.append(events_and_pos)\n",
    "                    for r in resGame:\n",
    "                        if r[0]==j:\n",
    "                            Y.append(r[1])\n",
    "                except Exception as e:\n",
    "                    pass\n",
    "            if i==20000:\n",
    "                save_obj(X, \"X_seq20000\") #max workable in notebook with this machine power\n",
    "                save_obj(Y, \"Y_seq20000\")\n",
    "                break\n",
    "            if i%1000==0:\n",
    "                print('--->', i)\n",
    "            \n",
    "    except Exception as e:\n",
    "        pass"
   ]
  },
  {
   "cell_type": "code",
   "execution_count": null,
   "metadata": {},
   "outputs": [],
   "source": []
  }
 ],
 "metadata": {
  "kernelspec": {
   "display_name": "Python 3",
   "language": "python",
   "name": "python3"
  },
  "language_info": {
   "codemirror_mode": {
    "name": "ipython",
    "version": 3
   },
   "file_extension": ".py",
   "mimetype": "text/x-python",
   "name": "python",
   "nbconvert_exporter": "python",
   "pygments_lexer": "ipython3",
   "version": "3.7.4"
  }
 },
 "nbformat": 4,
 "nbformat_minor": 2
}
