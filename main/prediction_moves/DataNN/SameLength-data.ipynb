{
 "cells": [
  {
   "cell_type": "code",
   "execution_count": 31,
   "metadata": {},
   "outputs": [],
   "source": [
    "import pickle\n",
    "import numpy as np\n"
   ]
  },
  {
   "cell_type": "code",
   "execution_count": 47,
   "metadata": {},
   "outputs": [],
   "source": [
    "def save_obj(obj, name ):\n",
    "    \"\"\" save object to file with python in binary format \"\"\" \n",
    "    with open(name + '.pkl', 'wb') as f:\n",
    "        pickle.dump(obj, f, 0)\n",
    "\n",
    "\n",
    "def load_obj(name):\n",
    "    \"\"\" load a file in binary format from path=name with pickle \"\"\"\n",
    "    with open(name, 'rb') as f:\n",
    "        return pickle.load(f)\n",
    "    \n",
    "def loadpickle(path):\n",
    "    \"\"\"load model from file\"\"\"\n",
    "    filein = open(path, 'rb')\n",
    "    model = pickle.load(filein)\n",
    "    filein.close()    \n",
    "    return model\n",
    "\n",
    "\n",
    "def SplitAndSave(lst, n, path='sequence chunks/', name=''):\n",
    "    \"\"\"Save n chunks of even size from lst.\"\"\"\n",
    "    lst = np.array(lst)\n",
    "    lsts = np.array_split(lst, n)\n",
    "    for i,l in enumerate(lsts):\n",
    "        save_obj(l, path+name+str(i))\n",
    "        \n",
    "def LoadSplitSave(name,n):\n",
    "    seq = loadpickle(name+'.pkl')\n",
    "    SplitAndSave(seq, n, name = name)\n",
    "\n"
   ]
  },
  {
   "cell_type": "code",
   "execution_count": 4,
   "metadata": {},
   "outputs": [],
   "source": [
    "path = 'X_seq28000.pkl'\n",
    "\n",
    "sequence = loadpickle(path)"
   ]
  },
  {
   "cell_type": "code",
   "execution_count": 5,
   "metadata": {
    "scrolled": false
   },
   "outputs": [
    {
     "data": {
      "text/plain": [
       "46350"
      ]
     },
     "execution_count": 5,
     "metadata": {},
     "output_type": "execute_result"
    }
   ],
   "source": [
    "len(sequence)"
   ]
  },
  {
   "cell_type": "code",
   "execution_count": 6,
   "metadata": {},
   "outputs": [
    {
     "data": {
      "text/plain": [
       "46350"
      ]
     },
     "execution_count": 6,
     "metadata": {},
     "output_type": "execute_result"
    }
   ],
   "source": [
    "path = 'Y_seq28000.pkl'\n",
    "\n",
    "sequence = loadpickle(path)\n",
    "len(sequence)"
   ]
  },
  {
   "cell_type": "code",
   "execution_count": 48,
   "metadata": {},
   "outputs": [],
   "source": [
    "# split large sequences\n",
    "namex1 = 'X_seq25000'\n",
    "LoadSplitSave(namex1, 10)"
   ]
  },
  {
   "cell_type": "code",
   "execution_count": 50,
   "metadata": {},
   "outputs": [],
   "source": [
    "namex2 = 'X_seq20000'\n",
    "LoadSplitSave(namex2, 10)"
   ]
  },
  {
   "cell_type": "code",
   "execution_count": 51,
   "metadata": {},
   "outputs": [],
   "source": [
    "namey1 = 'Y_seq25000'\n",
    "LoadSplitSave(namey1, 10)"
   ]
  },
  {
   "cell_type": "code",
   "execution_count": 52,
   "metadata": {},
   "outputs": [],
   "source": [
    "namey2 = 'Y_seq20000'\n",
    "LoadSplitSave(namey2, 10)"
   ]
  },
  {
   "cell_type": "code",
   "execution_count": null,
   "metadata": {},
   "outputs": [],
   "source": []
  }
 ],
 "metadata": {
  "kernelspec": {
   "display_name": "Python 3",
   "language": "python",
   "name": "python3"
  },
  "language_info": {
   "codemirror_mode": {
    "name": "ipython",
    "version": 3
   },
   "file_extension": ".py",
   "mimetype": "text/x-python",
   "name": "python",
   "nbconvert_exporter": "python",
   "pygments_lexer": "ipython3",
   "version": "3.7.4"
  }
 },
 "nbformat": 4,
 "nbformat_minor": 2
}
